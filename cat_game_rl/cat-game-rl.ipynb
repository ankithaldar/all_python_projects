{
 "cells": [
  {
   "attachments": {},
   "cell_type": "markdown",
   "metadata": {},
   "source": [
    "# Setup"
   ]
  },
  {
   "cell_type": "code",
   "execution_count": null,
   "metadata": {},
   "outputs": [],
   "source": [
    "%%bash\n",
    "\n",
    "MOVE_TO_BRANCH='cat_game_rl/main'\n",
    "\n",
    "cd /content/\n",
    "\n",
    "# Delete if directory exists\n",
    "if [ -d working ]; then\n",
    "    rm -rf working\n",
    "fi\n",
    "\n",
    "# create a working folder\n",
    "mkdir -p /content/working\n",
    "\n",
    "# move to working folder\n",
    "cd /content/working\n",
    "\n",
    "git clone https://github.com/ankithaldar/all_python_projects.git\n",
    "\n",
    "# get into kaggle git repo\n",
    "cd all_python_projects\n",
    "\n",
    "# mkdir charts\n",
    "\n",
    "# move to specified branch\n",
    "git checkout -b $MOVE_TO_BRANCH refs/remotes/origin/$MOVE_TO_BRANCH"
   ]
  },
  {
   "cell_type": "code",
   "execution_count": null,
   "metadata": {},
   "outputs": [],
   "source": [
    "%%bash\n",
    "# install requirements\n",
    "pip install -r /content/working/all_python_projects/requirements.txt"
   ]
  },
  {
   "cell_type": "code",
   "execution_count": null,
   "metadata": {},
   "outputs": [],
   "source": [
    "%cd /content/working/all_python_projects/cat_game_rl/\n",
    "%reload_ext autoreload\n",
    "%autoreload 2"
   ]
  },
  {
   "attachments": {},
   "cell_type": "markdown",
   "metadata": {},
   "source": [
    "# Cat Game Decor Manufacturing\n",
    "\n",
    "A simulation environment for multi-echelon cat game decor manufacturing problems."
   ]
  },
  {
   "cell_type": "code",
   "execution_count": null,
   "metadata": {},
   "outputs": [],
   "source": [
    "import numpy as np\n",
    "from tqdm import tqdm as tqdm\n",
    "import importlib\n",
    "\n",
    "import tools as cgt\n",
    "importlib.reload(cgt)\n",
    "\n",
    "cgt.print_hardware_status()"
   ]
  },
  {
   "attachments": {},
   "cell_type": "markdown",
   "metadata": {},
   "source": [
    "# Core Simulation Logic and Rendering\n",
    "\n",
    "In this section, we test the core simulator and renderer (without RL adapters and integrations)."
   ]
  },
  {
   "cell_type": "code",
   "execution_count": null,
   "metadata": {},
   "outputs": [],
   "source": [
    "import environment as cge\n",
    "import tools as cgt\n",
    "for module in [cge, cgt]:\n",
    "  importlib.reload(module)\n",
    "\n",
    "# Measure the simulation rate, steps/sec\n"
   ]
  }
 ],
 "metadata": {
  "language_info": {
   "name": "python"
  },
  "orig_nbformat": 4
 },
 "nbformat": 4,
 "nbformat_minor": 2
}
